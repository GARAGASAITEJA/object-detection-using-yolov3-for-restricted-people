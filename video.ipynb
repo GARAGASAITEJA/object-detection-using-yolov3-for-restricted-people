{
 "cells": [
  {
   "cell_type": "code",
   "execution_count": 1,
   "id": "5923f0c5",
   "metadata": {},
   "outputs": [],
   "source": [
    "import numpy as np\n",
    "import argparse\n",
    "import cv2 as cv\n",
    "import subprocess\n",
    "import time\n",
    "import os\n",
    "from yolo_utils import infer_image, show_image"
   ]
  },
  {
   "cell_type": "code",
   "execution_count": 2,
   "id": "e0355111",
   "metadata": {},
   "outputs": [],
   "source": [
    "FLAGS = []\n",
    "\n",
    "if __name__ == '__main__':\n",
    "    parser = argparse.ArgumentParser()\n",
    "    \n",
    "    parser.add_argument('-m', '--model',\n",
    "        default='./weights/')\n",
    "    \n",
    "    parser.add_argument('-w', '--weights',\n",
    "        default='./weights/yolov3.weights')\n",
    "\n",
    "    parser.add_argument('-cfg', '--config',\n",
    "        default='./cfg/yolov3.cfg')\n",
    "\n",
    "    parser.add_argument('-v', '--video-path',\n",
    "        default='./videos/airport.mp4')\n",
    "\n",
    "    parser.add_argument('-vo', '--video-output-path',\n",
    "        default='./output/airport.avi')\n",
    "\n",
    "    parser.add_argument('-l', '--labels',\n",
    "        default='./data/coco.names')\n",
    "\n",
    "    parser.add_argument('-c', '--confidence',\n",
    "        type=float,\n",
    "        default=0.5)\n",
    "\n",
    "    parser.add_argument('-th', '--threshold',\n",
    "        type=float,\n",
    "        default=0.3)\n",
    "\n",
    "    parser.add_argument('-t', '--show-time',\n",
    "        default=False)\n",
    "\n",
    "    FLAGS, unparsed = parser.parse_known_args()\n"
   ]
  },
  {
   "cell_type": "code",
   "execution_count": 3,
   "id": "43f5c9e5",
   "metadata": {},
   "outputs": [
    {
     "name": "stdout",
     "output_type": "stream",
     "text": [
      "['person', 'bicycle', 'car', 'motorbike', 'aeroplane', 'bus', 'train', 'truck', 'boat', 'traffic light', 'fire hydrant', 'stop sign', 'parking meter', 'bench', 'bird', 'cat', 'dog', 'horse', 'sheep', 'cow', 'elephant', 'bear', 'zebra', 'giraffe', 'backpack', 'umbrella', 'handbag', 'tie', 'suitcase', 'frisbee', 'skis', 'snowboard', 'sports ball', 'kite', 'baseball bat', 'baseball glove', 'skateboard', 'surfboard', 'tennis racket', 'bottle', 'wine glass', 'cup', 'fork', 'knife', 'spoon', 'bowl', 'banana', 'apple', 'sandwich', 'orange', 'broccoli', 'carrot', 'hot dog', 'pizza', 'donut', 'cake', 'chair', 'sofa', 'pottedplant', 'bed', 'diningtable', 'toilet', 'tvmonitor', 'laptop', 'mouse', 'remote', 'keyboard', 'cell phone', 'microwave', 'oven', 'toaster', 'sink', 'refrigerator', 'book', 'clock', 'vase', 'scissors', 'teddy bear', 'hair drier', 'toothbrush']\n"
     ]
    }
   ],
   "source": [
    "\n",
    "\n",
    "# Get the labels\n",
    "labels = open(FLAGS.labels).read().strip().split('\\n')\n",
    "print(labels)\n"
   ]
  },
  {
   "cell_type": "code",
   "execution_count": 4,
   "id": "f9dd6aa1",
   "metadata": {},
   "outputs": [],
   "source": [
    "\n",
    "# Intializing colors to represent each label uniquely\n",
    "colors = np.random.randint(0, 255, size=(len(labels), 3), dtype='uint8')\n"
   ]
  },
  {
   "cell_type": "code",
   "execution_count": 5,
   "id": "ff370402",
   "metadata": {},
   "outputs": [],
   "source": [
    "\n",
    "# Load the weights and configutation to form the pretrained YOLOv3 model\n",
    "net = cv.dnn.readNetFromDarknet(FLAGS.config, FLAGS.weights)\n"
   ]
  },
  {
   "cell_type": "code",
   "execution_count": 6,
   "id": "a4ae28e2",
   "metadata": {},
   "outputs": [
    {
     "name": "stdout",
     "output_type": "stream",
     "text": [
      "('conv_0', 'bn_0', 'leaky_1', 'conv_1', 'bn_1', 'leaky_2', 'conv_2', 'bn_2', 'leaky_3', 'conv_3', 'bn_3', 'leaky_4', 'shortcut_4', 'conv_5', 'bn_5', 'leaky_6', 'conv_6', 'bn_6', 'leaky_7', 'conv_7', 'bn_7', 'leaky_8', 'shortcut_8', 'conv_9', 'bn_9', 'leaky_10', 'conv_10', 'bn_10', 'leaky_11', 'shortcut_11', 'conv_12', 'bn_12', 'leaky_13', 'conv_13', 'bn_13', 'leaky_14', 'conv_14', 'bn_14', 'leaky_15', 'shortcut_15', 'conv_16', 'bn_16', 'leaky_17', 'conv_17', 'bn_17', 'leaky_18', 'shortcut_18', 'conv_19', 'bn_19', 'leaky_20', 'conv_20', 'bn_20', 'leaky_21', 'shortcut_21', 'conv_22', 'bn_22', 'leaky_23', 'conv_23', 'bn_23', 'leaky_24', 'shortcut_24', 'conv_25', 'bn_25', 'leaky_26', 'conv_26', 'bn_26', 'leaky_27', 'shortcut_27', 'conv_28', 'bn_28', 'leaky_29', 'conv_29', 'bn_29', 'leaky_30', 'shortcut_30', 'conv_31', 'bn_31', 'leaky_32', 'conv_32', 'bn_32', 'leaky_33', 'shortcut_33', 'conv_34', 'bn_34', 'leaky_35', 'conv_35', 'bn_35', 'leaky_36', 'shortcut_36', 'conv_37', 'bn_37', 'leaky_38', 'conv_38', 'bn_38', 'leaky_39', 'conv_39', 'bn_39', 'leaky_40', 'shortcut_40', 'conv_41', 'bn_41', 'leaky_42', 'conv_42', 'bn_42', 'leaky_43', 'shortcut_43', 'conv_44', 'bn_44', 'leaky_45', 'conv_45', 'bn_45', 'leaky_46', 'shortcut_46', 'conv_47', 'bn_47', 'leaky_48', 'conv_48', 'bn_48', 'leaky_49', 'shortcut_49', 'conv_50', 'bn_50', 'leaky_51', 'conv_51', 'bn_51', 'leaky_52', 'shortcut_52', 'conv_53', 'bn_53', 'leaky_54', 'conv_54', 'bn_54', 'leaky_55', 'shortcut_55', 'conv_56', 'bn_56', 'leaky_57', 'conv_57', 'bn_57', 'leaky_58', 'shortcut_58', 'conv_59', 'bn_59', 'leaky_60', 'conv_60', 'bn_60', 'leaky_61', 'shortcut_61', 'conv_62', 'bn_62', 'leaky_63', 'conv_63', 'bn_63', 'leaky_64', 'conv_64', 'bn_64', 'leaky_65', 'shortcut_65', 'conv_66', 'bn_66', 'leaky_67', 'conv_67', 'bn_67', 'leaky_68', 'shortcut_68', 'conv_69', 'bn_69', 'leaky_70', 'conv_70', 'bn_70', 'leaky_71', 'shortcut_71', 'conv_72', 'bn_72', 'leaky_73', 'conv_73', 'bn_73', 'leaky_74', 'shortcut_74', 'conv_75', 'bn_75', 'leaky_76', 'conv_76', 'bn_76', 'leaky_77', 'conv_77', 'bn_77', 'leaky_78', 'conv_78', 'bn_78', 'leaky_79', 'conv_79', 'bn_79', 'leaky_80', 'conv_80', 'bn_80', 'leaky_81', 'conv_81', 'permute_82', 'yolo_82', 'identity_83', 'conv_84', 'bn_84', 'leaky_85', 'upsample_85', 'concat_86', 'conv_87', 'bn_87', 'leaky_88', 'conv_88', 'bn_88', 'leaky_89', 'conv_89', 'bn_89', 'leaky_90', 'conv_90', 'bn_90', 'leaky_91', 'conv_91', 'bn_91', 'leaky_92', 'conv_92', 'bn_92', 'leaky_93', 'conv_93', 'permute_94', 'yolo_94', 'identity_95', 'conv_96', 'bn_96', 'leaky_97', 'upsample_97', 'concat_98', 'conv_99', 'bn_99', 'leaky_100', 'conv_100', 'bn_100', 'leaky_101', 'conv_101', 'bn_101', 'leaky_102', 'conv_102', 'bn_102', 'leaky_103', 'conv_103', 'bn_103', 'leaky_104', 'conv_104', 'bn_104', 'leaky_105', 'conv_105', 'permute_106', 'yolo_106')\n",
      "conv_0\n"
     ]
    }
   ],
   "source": [
    "\n",
    "    # Get the output layer names of the model\n",
    "layer_names = net.getLayerNames()\n",
    "\n",
    "print(layer_names)\n",
    "print(layer_names[0])"
   ]
  },
  {
   "cell_type": "code",
   "execution_count": 7,
   "id": "ec6c546d",
   "metadata": {},
   "outputs": [],
   "source": [
    "layer_names = [layer_names[i - 1] for i in net.getUnconnectedOutLayers()]"
   ]
  },
  {
   "cell_type": "code",
   "execution_count": 8,
   "id": "418abe30",
   "metadata": {},
   "outputs": [
    {
     "name": "stdout",
     "output_type": "stream",
     "text": [
      "[INFO] Cleaning up...\n"
     ]
    }
   ],
   "source": [
    "if FLAGS.video_path:\n",
    "# Read the video\n",
    "        try:\n",
    "            vid = cv.VideoCapture(FLAGS.video_path)\n",
    "            height, width = None, None\n",
    "            writer = None\n",
    "        except:\n",
    "            raise 'Video cannot be loaded!\\n\\\n",
    "                               Please check the path provided!'\n",
    "\n",
    "        finally:\n",
    "            while True:\n",
    "                grabbed, frame = vid.read()\n",
    "\n",
    "# Checking if the complete video is read\n",
    "                if not grabbed:\n",
    "                    break\n",
    "\n",
    "                if width is None or height is None:\n",
    "                    height, width = frame.shape[:2]\n",
    "\n",
    "                frame, _, _, _, _ = infer_image(net, layer_names, height, width, frame, colors, labels, FLAGS)\n",
    "\n",
    "                if writer is None:\n",
    " # Initialize the video writer\n",
    "                     fourcc = cv.VideoWriter_fourcc(*\"MJPG\")\n",
    "                     writer = cv.VideoWriter(FLAGS.video_output_path, fourcc, 30, \n",
    "                               (frame.shape[1], frame.shape[0]), True)\n",
    "\n",
    "                writer.write(frame)\n",
    "\n",
    "            print (\"[INFO] Cleaning up...\")\n",
    "            writer.release()\n",
    "            vid.release()\n"
   ]
  },
  {
   "cell_type": "code",
   "execution_count": 4,
   "id": "18114065",
   "metadata": {},
   "outputs": [],
   "source": []
  },
  {
   "cell_type": "code",
   "execution_count": null,
   "id": "19325e45",
   "metadata": {},
   "outputs": [],
   "source": []
  },
  {
   "cell_type": "code",
   "execution_count": null,
   "id": "21f4b3ce",
   "metadata": {},
   "outputs": [],
   "source": []
  }
 ],
 "metadata": {
  "kernelspec": {
   "display_name": "Python 3",
   "language": "python",
   "name": "python3"
  },
  "language_info": {
   "codemirror_mode": {
    "name": "ipython",
    "version": 3
   },
   "file_extension": ".py",
   "mimetype": "text/x-python",
   "name": "python",
   "nbconvert_exporter": "python",
   "pygments_lexer": "ipython3",
   "version": "3.9.7"
  }
 },
 "nbformat": 4,
 "nbformat_minor": 5
}
